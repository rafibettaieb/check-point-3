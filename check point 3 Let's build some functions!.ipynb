{
 "cells": [
  {
   "cell_type": "markdown",
   "id": "befe3794",
   "metadata": {},
   "source": [
    "question N1 :"
   ]
  },
  {
   "cell_type": "code",
   "execution_count": 1,
   "id": "73a668c9",
   "metadata": {},
   "outputs": [
    {
     "name": "stdout",
     "output_type": "stream",
     "text": [
      "x=-3\n",
      "y=-5\n",
      "z=-100\n",
      "max of three numbers is -3\n"
     ]
    }
   ],
   "source": [
    "x=int(input(\"x=\"))\n",
    "y=int(input(\"y=\"))\n",
    "z=int(input(\"z=\"))\n",
    "def max_of_two( x, y ):\n",
    "    if x > y:\n",
    "        return x\n",
    "    else:\n",
    "        return y\n",
    "def max_of_three( x, y, z ):\n",
    "    return max_of_two( x, max_of_two( y, z ) )\n",
    "print(\"max of three numbers is\",max_of_three(x,y,z))"
   ]
  },
  {
   "cell_type": "markdown",
   "id": "cd1be43c",
   "metadata": {},
   "source": [
    "question N2 :"
   ]
  },
  {
   "cell_type": "code",
   "execution_count": 2,
   "id": "f30af24b",
   "metadata": {},
   "outputs": [
    {
     "name": "stdout",
     "output_type": "stream",
     "text": [
      "x=40\n",
      "y=10\n",
      "50 , 30\n"
     ]
    }
   ],
   "source": [
    "x=int(input(\"x=\"))\n",
    "y=int(input(\"y=\"))\n",
    "def calculation(x,y):\n",
    "    a=x+y\n",
    "    b=x-y\n",
    "    print(a,\",\",b)\n",
    "calculation(x,y)"
   ]
  },
  {
   "cell_type": "markdown",
   "id": "ee8c1312",
   "metadata": {},
   "source": [
    "question N3:"
   ]
  },
  {
   "cell_type": "code",
   "execution_count": 3,
   "id": "fdc2ea68",
   "metadata": {},
   "outputs": [
    {
     "name": "stdout",
     "output_type": "stream",
     "text": [
      "number of items in the liste3\n",
      "1\n",
      "2\n",
      "3\n",
      "[1, 2, 3]\n",
      "liste1= [1, 3]\n",
      "liste2= [2]\n",
      "4\n",
      "2\n"
     ]
    }
   ],
   "source": [
    "liste=[]\n",
    "n=int(input(\"number of items in the liste\"))\n",
    "for i in range (n):\n",
    "    item=int(input())\n",
    "    liste.append(item)\n",
    "print(liste)    \n",
    "    \n",
    "def sum1(liste):\n",
    "    sum2=0\n",
    "    for i in liste:\n",
    "        sum2 += i\n",
    "    return sum2\n",
    "\n",
    "\n",
    "def mult1(liste):\n",
    "    mult2=1\n",
    "    for i in liste:\n",
    "        mult2 *= i\n",
    "    return mult2\n",
    "\n",
    "\n",
    "liste1=[]\n",
    "liste2=[]\n",
    "for x in range(len(liste)):\n",
    "    if x %2 == 0:\n",
    "        liste1.append(liste[x])\n",
    "    else :\n",
    "        liste2.append(liste[x])\n",
    "print(\"liste1=\" ,liste1)\n",
    "print(\"liste2=\",liste2)\n",
    "print(sum1(liste1))\n",
    "print(mult1(liste2))"
   ]
  },
  {
   "cell_type": "markdown",
   "id": "df65ca7f",
   "metadata": {},
   "source": [
    "question N4 :"
   ]
  },
  {
   "cell_type": "code",
   "execution_count": 4,
   "id": "5f5b38ff",
   "metadata": {},
   "outputs": [
    {
     "name": "stdout",
     "output_type": "stream",
     "text": [
      "green-red-yellow-black-white\n",
      "black-green-red-white-yellow\n"
     ]
    }
   ],
   "source": [
    "items=[n for n in input().split('-')]\n",
    "items.sort()\n",
    "print('-'.join(items))"
   ]
  },
  {
   "cell_type": "markdown",
   "id": "e60fb804",
   "metadata": {},
   "source": [
    "question N5:"
   ]
  },
  {
   "cell_type": "code",
   "execution_count": 5,
   "id": "6a7b5428",
   "metadata": {},
   "outputs": [
    {
     "name": "stdout",
     "output_type": "stream",
     "text": [
      "enter a spreated numbers by comma100,150,180\n",
      "[18, 22, 24]\n"
     ]
    }
   ],
   "source": [
    "from math import*\n",
    "liste=[n for n in input(\"enter a spreated numbers by comma\").split(',')]\n",
    "liste2 = []\n",
    "for D in liste:\n",
    "        D=int(D)\n",
    "def function (C,H,D):\n",
    "    for D in liste:\n",
    "        D=int(D)\n",
    "        Q=sqrt((2*C*D)/H)\n",
    "        liste2.append(round(Q))\n",
    "    return liste2\n",
    "function(50,30,D)\n",
    "print(liste2)"
   ]
  }
 ],
 "metadata": {
  "kernelspec": {
   "display_name": "Python 3",
   "language": "python",
   "name": "python3"
  },
  "language_info": {
   "codemirror_mode": {
    "name": "ipython",
    "version": 3
   },
   "file_extension": ".py",
   "mimetype": "text/x-python",
   "name": "python",
   "nbconvert_exporter": "python",
   "pygments_lexer": "ipython3",
   "version": "3.8.8"
  }
 },
 "nbformat": 4,
 "nbformat_minor": 5
}
